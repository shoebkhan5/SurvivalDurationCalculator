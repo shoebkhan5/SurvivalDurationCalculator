{
 "cells": [
  {
   "cell_type": "code",
   "execution_count": null,
   "id": "3454c202-f2c4-451e-8be2-04f3cd76c4a2",
   "metadata": {},
   "outputs": [],
   "source": [
    "# Survival Duration Calculator\n",
    "\n",
    "## Project Description\n",
    "This project calculates the survival duration of a person in different time units (Months, Weeks, Days, Hours, Minutes, Seconds) based on their age.)\n",
    "\n",
    "## Usage\n",
    "1. Run the `survival_calculator.py` script.\n",
    "2. Enter your age.\n",
    "3. Choose a time unit (Months, Weeks, Days, Hours, Seconds.).\n",
    "4. The program will display the duration you lived in the chosen unit.\n",
    "\n",
    "## Thoughts During Creation\n",
    "- Started with understanding requirements.\n",
    "- Designed a class with methods for each calculation.\n",
    "- Added error handling for invalid inputs.\n",
    "\n",
    "## Execution\n",
    "Run the script in a Python environment. Ensure Python 3.x is installed.\n"
   ]
  }
 ],
 "metadata": {
  "kernelspec": {
   "display_name": "Python 3 (ipykernel)",
   "language": "python",
   "name": "python3"
  },
  "language_info": {
   "codemirror_mode": {
    "name": "ipython",
    "version": 3
   },
   "file_extension": ".py",
   "mimetype": "text/x-python",
   "name": "python",
   "nbconvert_exporter": "python",
   "pygments_lexer": "ipython3",
   "version": "3.12.4"
  }
 },
 "nbformat": 4,
 "nbformat_minor": 5
}
